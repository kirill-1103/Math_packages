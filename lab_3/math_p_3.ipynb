{
 "cells": [
  {
   "cell_type": "markdown",
   "metadata": {},
   "source": [
    "### Лабораторная работа №3 (Варинат 7)\n",
    "#### Выполнил студент группы 9383 Крейсманн Кирилл\n",
    "\n",
    "### Цель:\n",
    "Практическое применение библиотеки символьных вычислений Python (SymPy) для решения задач дискретной математики и математической логики.\n",
    "\n",
    "### Задачи:\n",
    "- Решить свой вариант диофантова уравнения\n",
    "- Имея открытую часть ключа RSA найти соответствующую закрытую часть и расшифровать кодированное слово.\n",
    "- Записать в формате ДНФ и КНФ булеву функцию, заданную своим аналитическим выражением.\n",
    "\n",
    "\n"
   ]
  },
  {
   "cell_type": "markdown",
   "metadata": {},
   "source": [
    "### Решение диофантова уравнения\n",
    "$$2392x - 2461y = 138$$\n"
   ]
  },
  {
   "cell_type": "code",
   "execution_count": 8,
   "metadata": {},
   "outputs": [
    {
     "data": {
      "text/plain": [
       "{(107*t_0 - 216, 104*t_0 - 210)}"
      ]
     },
     "execution_count": 8,
     "metadata": {},
     "output_type": "execute_result"
    }
   ],
   "source": [
    "import sympy\n",
    "\n",
    "sympy.solvers.diophantine(2392*sympy.symbols('x')-2461*sympy.symbols('y')-138)"
   ]
  },
  {
   "cell_type": "markdown",
   "metadata": {},
   "source": [
    "$$x=-216+107*t$$\n",
    "$$y=-210+104*t$$\n",
    "$$t \\in \\mathbb{Z}$$\n"
   ]
  },
  {
   "cell_type": "markdown",
   "metadata": {},
   "source": [
    "### RSA\n",
    "Русское слово из четырех букв закодировано при помощи алгоритма ESA открытым ключом (e=15,m=46). Шифрованное сообщение имеет вид (36,7,43,34). Подберите закрытую часть ключа и прочитайте исходное слово. Буквам русского алфавита соответствуют числа в диапазоне от 2 до 32 (исклчены буквы \"ё\" и \"ъ\").\n"
   ]
  },
  {
   "cell_type": "code",
   "execution_count": 74,
   "metadata": {},
   "outputs": [
    {
     "name": "stdout",
     "output_type": "stream",
     "text": [
      "Закрытая часть: (46, 3)\n",
      "12 21 19 20 \n",
      "\n"
     ]
    }
   ],
   "source": [
    "import sympy.crypto.crypto as cc\n",
    "pk = cc.rsa_private_key(46,15)\n",
    "print('Закрытая часть:',pk)\n",
    "word=[36,7,43,34]\n",
    "rs=[]\n",
    "\n",
    "for i in word:\n",
    "    print(cc.decipher_rsa(i,pk),end=' ')\n",
    "    rs.append(cc.decipher_rsa(i,pk))\n",
    "print('\\n')\n",
    "\n",
    "\n"
   ]
  },
  {
   "cell_type": "markdown",
   "metadata": {},
   "source": [
    "Получили числа - 12 21 19 20\n",
    "\n",
    "Теперь получим слово:"
   ]
  },
  {
   "cell_type": "code",
   "execution_count": 51,
   "metadata": {},
   "outputs": [
    {
     "name": "stdout",
     "output_type": "stream",
     "text": [
      "куст\n",
      "\n",
      "2 3 4 5 6 7 8 9 10 11 12 13 14 15 16 17 18 19 20 21 22 23 24 25 26 27 28 29 30 31 32 \n",
      "а б в г д е ж з и  й  к  л  м  н  о  п  р  с  т  у  ф  х  ц  ч  ш  щ  ы  ь  э  ю  я  "
     ]
    }
   ],
   "source": [
    "for i in rs:\n",
    "    print(chr(a+i-2),end='')\n",
    "\n",
    "print('\\n')\n",
    "for i in range(2,33):\n",
    "    print(i,end=' ')\n",
    "print()\n",
    "\n",
    "a=ord('а')\n",
    "j=2\n",
    "for i in range(a,a+32):\n",
    "    if(chr(i)!='ъ'):\n",
    "        print(chr(i),end=' ')\n",
    "        if(j>=10):\n",
    "            print('',end=' ')\n",
    "        j+=1\n"
   ]
  },
  {
   "cell_type": "markdown",
   "metadata": {},
   "source": [
    "Получили слово \"куст\"."
   ]
  },
  {
   "cell_type": "markdown",
   "metadata": {},
   "source": [
    "### ДНФ, КНФ\n",
    "\n",
    "$$f(x,y,z) = ((x \\vee y)\\wedge(y \\wedge x)) \\oplus ((z \\wedge x) \\oplus (x \\vee z))$$"
   ]
  },
  {
   "cell_type": "code",
   "execution_count": 71,
   "metadata": {},
   "outputs": [
    {
     "name": "stdout",
     "output_type": "stream",
     "text": [
      "(y & z) | (z & ~x) | (x & ~y & ~z)\n",
      "(x | z) & (z | ~y) & (y | ~x | ~z)\n"
     ]
    }
   ],
   "source": [
    "import sympy.logic.boolalg as balg\n",
    "x=sympy.symbols('x')\n",
    "y=sympy.symbols('y')\n",
    "z=sympy.symbols('z')\n",
    "\n",
    "d=((x|y)&(y&x))^((z&x)^(x|z))\n",
    "\n",
    "print(balg.to_dnf(d,True))\n",
    "print(balg.to_cnf(d,True))"
   ]
  },
  {
   "cell_type": "markdown",
   "metadata": {},
   "source": [
    "Получили,\n",
    "\n",
    "ДНФ:\n",
    "$$(y \\wedge z) \\vee (z \\wedge \\overline{x}) \\vee (x \\wedge \\overline{x} \\wedge \\overline{z})$$\n",
    "\n",
    "КНФ:\n",
    "\n",
    "$$(x \\vee z) \\wedge (z \\vee \\overline{y}) \\wedge (y \\vee \\overline{x} \\vee \\overline{z})$$"
   ]
  },
  {
   "cell_type": "markdown",
   "metadata": {},
   "source": [
    "### Вывод:\n",
    "\n",
    "В ходе выполнения данной лабораторной работы была изучена библиотека символьных вычислений Python (SymPy). С помощью данной библиотеки были решены три задачи."
   ]
  }
 ],
 "metadata": {
  "kernelspec": {
   "display_name": "Python 3",
   "language": "python",
   "name": "python3"
  },
  "language_info": {
   "codemirror_mode": {
    "name": "ipython",
    "version": 3
   },
   "file_extension": ".py",
   "mimetype": "text/x-python",
   "name": "python",
   "nbconvert_exporter": "python",
   "pygments_lexer": "ipython3",
   "version": "3.8.10"
  }
 },
 "nbformat": 4,
 "nbformat_minor": 4
}
